{
 "cells": [
  {
   "cell_type": "code",
   "execution_count": 1,
   "metadata": {},
   "outputs": [],
   "source": [
    "from erlyx.environment import BaseEnvironment, Episode, GymEnvironment\n",
    "from erlyx import types\n",
    "\n",
    "import numpy as np\n",
    "\n",
    "import cv2"
   ]
  },
  {
   "cell_type": "code",
   "execution_count": 2,
   "metadata": {},
   "outputs": [],
   "source": [
    "from datetime import datetime"
   ]
  },
  {
   "cell_type": "code",
   "execution_count": 3,
   "metadata": {},
   "outputs": [],
   "source": [
    "from erlyx.policies import PytorchPolicy, FeedForwardNetworkPolicy, Policy\n",
    "from erlyx.agents import EpsilonGreedyAgent, BaseAgent\n",
    "from erlyx.datasets import DequeDataset, BaseDataset\n",
    "from erlyx.algorithms.ddqn import DoubleDeepQLearner\n",
    "from erlyx.callbacks import *\n",
    "\n",
    "import erlyx\n",
    "\n",
    "import torch"
   ]
  },
  {
   "cell_type": "code",
   "execution_count": 4,
   "metadata": {},
   "outputs": [],
   "source": [
    "from collections import deque"
   ]
  },
  {
   "cell_type": "code",
   "execution_count": 5,
   "metadata": {},
   "outputs": [],
   "source": [
    "from time import sleep"
   ]
  },
  {
   "cell_type": "code",
   "execution_count": 6,
   "metadata": {},
   "outputs": [],
   "source": [
    "class BWGymEnvironment(GymEnvironment):\n",
    "    IMG_HW = (105, 80)\n",
    "    \n",
    "    def __init__(self, env_name, repeat=4, simplified_reward=True):\n",
    "        super(BWGymEnvironment, self).__init__(env_name)\n",
    "        self._repeat = repeat\n",
    "        self._simplified_reward = simplified_reward\n",
    "        \n",
    "    def new_episode(self) -> (Episode, types.ObservationType):\n",
    "        observation = self.gym_env.reset()\n",
    "        return self, self._resize_bw(observation)\n",
    "    \n",
    "    def _resize_bw(self, observation):\n",
    "        return cv2.resize(cv2.cvtColor(observation, cv2.COLOR_RGB2GRAY), (self.IMG_HW[1], self.IMG_HW[0]))\n",
    "    \n",
    "    def step(self, action):\n",
    "        reward = 0\n",
    "        for _ in range(self._repeat):\n",
    "            observation, _reward, done, _ = self.gym_env.step(action)\n",
    "            reward += _reward\n",
    "            #self.gym_env.render()\n",
    "            #sleep(1/65)\n",
    "        if self._simplified_reward:\n",
    "            if reward > 0:\n",
    "                reward = 1\n",
    "            elif reward < 0:\n",
    "                reward = -1\n",
    "            else:\n",
    "                reward = 0\n",
    "        return types.EpisodeStatus(self._resize_bw(observation), reward, done)"
   ]
  },
  {
   "cell_type": "code",
   "execution_count": 7,
   "metadata": {},
   "outputs": [],
   "source": [
    "class TransitionHistoryDataset(BaseDataset):\n",
    "    def __init__(self, input_shape, max_length, history_length=4):\n",
    "        self._states = np.zeros(shape=(max_length, *input_shape), dtype=np.uint8)\n",
    "        self._actions = np.zeros(shape=max_length, dtype=np.uint8)\n",
    "        self._rewards = np.zeros(shape=max_length, dtype=np.int8)\n",
    "        self._dones = np.zeros(shape=max_length, dtype=np.uint8)\n",
    "        self._position = 0\n",
    "        self._max_length = max_length\n",
    "        self._history_length = history_length\n",
    "        self._rng = np.random.default_rng()\n",
    "        \n",
    "    def push(self, transition):\n",
    "        state, action, next_state, reward, done = transition\n",
    "        next_position = (self._position + 1) % self._max_length\n",
    "        self._states[[self._position, next_position], :] = [state, next_state]\n",
    "        self._actions[self._position] = action\n",
    "        self._rewards[self._position] = reward\n",
    "        self._dones[next_position] = done\n",
    "        self._position = next_position\n",
    "\n",
    "    def __getitem__(self, index):\n",
    "        if self._dones[index]:\n",
    "            return self[index+1]\n",
    "        indexes  = np.arange(index - self._history_length + 1, index + 2) % self._max_length\n",
    "        transition_slice = self._states[indexes, :]\n",
    "        # Transforma los estados anteriores que tengan done=True en ceros\n",
    "        previous_done_index = np.insert(self._dones[indexes[:-2]], 0, 0).cumsum().argmax()\n",
    "        transition_slice[:previous_done_index, :] = 0\n",
    "        # builds transition\n",
    "        state = transition_slice[:self._history_length]\n",
    "        next_state = transition_slice[1:self._history_length+1]\n",
    "        action = self._actions[index]\n",
    "        reward = self._rewards[index]\n",
    "        done = self._dones[indexes[-1]]\n",
    "        if state.shape[0] != 4:\n",
    "            raise Exception\n",
    "        return (state, action, next_state, reward, done)\n",
    "    \n",
    "    def sample(self, batch_size):\n",
    "        return [self[index] for index in self._rng.choice(self._max_length, batch_size)]"
   ]
  },
  {
   "cell_type": "code",
   "execution_count": 8,
   "metadata": {},
   "outputs": [],
   "source": [
    "class ConvNetwork(torch.nn.Module):\n",
    "    def __init__(self):\n",
    "        print('original')\n",
    "        super(ConvNetwork, self).__init__()\n",
    "        self._conv1 = torch.nn.Sequential(\n",
    "            torch.nn.Conv2d(4, 32, kernel_size=8, stride=4),\n",
    "            torch.nn.ReLU(),\n",
    "            torch.nn.Conv2d(32, 64, kernel_size=3, stride=2),\n",
    "            torch.nn.ReLU(),\n",
    "            torch.nn.Conv2d(64, 64, kernel_size=3, stride=1),\n",
    "            torch.nn.ReLU(),\n",
    "        )\n",
    "        self._linear = torch.nn.Sequential(\n",
    "            torch.nn.Linear(64*70, 512),\n",
    "            torch.nn.ReLU(),\n",
    "            torch.nn.Linear(512,  num_actions)\n",
    "        )\n",
    "                \n",
    "    def forward(self, x):\n",
    "        #if x.shape[1] != 4:\n",
    "        #    raise Exception\n",
    "        if len(x.shape) == 3:\n",
    "            x = x.unsqueeze(0)\n",
    "        output = self._conv1(x)\n",
    "        output = output.view(x.shape[0], -1)\n",
    "        output = self._linear(output)\n",
    "        return output"
   ]
  },
  {
   "cell_type": "code",
   "execution_count": 9,
   "metadata": {},
   "outputs": [],
   "source": [
    "class CNNPolicy(PytorchPolicy):\n",
    "    def __init__(self):\n",
    "        self._model = ConvNetwork()\n",
    "        \n",
    "    @property\n",
    "    def model(self):\n",
    "        return self._model\n",
    "    \n",
    "    def process_observation(self, observation):\n",
    "        tensor = torch.Tensor(observation/128. - 1.)/0.35 # divided by 0.35 because of standard deviation\n",
    "        return tensor\n",
    "        \n",
    "    def get_distribution(self, state):\n",
    "        with torch.no_grad():\n",
    "            self.model.eval()\n",
    "            q_values = self.model(self.process_observation(state))\n",
    "            distribution = torch.nn.functional.softmax(q_values, dim=1)\n",
    "        return distribution.data.cpu().numpy().reshape(-1)\n",
    "    \n",
    "    def num_actions(self) -> int:\n",
    "        return num_actions\n"
   ]
  },
  {
   "cell_type": "code",
   "execution_count": 10,
   "metadata": {},
   "outputs": [],
   "source": [
    "cp = torch.load('best_checkpoint_viernes3.sd')"
   ]
  },
  {
   "cell_type": "code",
   "execution_count": 11,
   "metadata": {},
   "outputs": [],
   "source": [
    "class EpsilonGreedyHistoryAgent(BaseAgent):\n",
    "    def __init__(self, policy: Policy, epsilon, obs_shape):\n",
    "        super(EpsilonGreedyHistoryAgent, self).__init__(policy=policy)\n",
    "        self.epsilon = epsilon\n",
    "        self._obs_shape = obs_shape\n",
    "        self._memory_buffer = deque(maxlen=4)\n",
    "        \n",
    "    def reset_memory(self):\n",
    "        self._memory_buffer = deque([np.zeros(shape=self._obs_shape)]*4, maxlen=4)\n",
    "        \n",
    "    def select_action(self, observation: types.ObservationType) -> types.ActionType:\n",
    "        self._memory_buffer.append(observation)\n",
    "        if np.random.uniform() < self.epsilon:\n",
    "            return np.random.choice(self.action_space)\n",
    "        observation = np.asarray(list(self._memory_buffer))\n",
    "        distribution = self.policy.get_distribution(observation)\n",
    "        return np.argmax(distribution)"
   ]
  },
  {
   "cell_type": "code",
   "execution_count": 12,
   "metadata": {},
   "outputs": [],
   "source": [
    "class AgentMemoryReseter(BaseCallback):\n",
    "    def __init__(self, agent):\n",
    "        self._agent = agent\n",
    "        \n",
    "    def on_episode_begin(self, initial_observation):\n",
    "        self._agent.reset_memory()"
   ]
  },
  {
   "cell_type": "code",
   "execution_count": 13,
   "metadata": {
    "scrolled": true
   },
   "outputs": [
    {
     "name": "stdout",
     "output_type": "stream",
     "text": [
      "original\n"
     ]
    }
   ],
   "source": [
    "num_actions = 18\n",
    "policy = CNNPolicy()\n",
    "policy.model.load_state_dict(cp['model'])\n",
    "dataset = TransitionHistoryDataset(input_shape=(105, 80), max_length=1_000_000, history_length=4)\n",
    "agent = EpsilonGreedyHistoryAgent(policy=policy, epsilon=0., obs_shape=(105, 80))\n",
    "learner = DoubleDeepQLearner(32, policy, 1e-4/4, 30_000, loss_func=torch.nn.SmoothL1Loss())\n",
    "learner.optimizer.load_state_dict(cp['optimizer'])"
   ]
  },
  {
   "cell_type": "code",
   "execution_count": 14,
   "metadata": {},
   "outputs": [
    {
     "data": {
      "text/plain": [
       "0"
      ]
     },
     "execution_count": 14,
     "metadata": {},
     "output_type": "execute_result"
    }
   ],
   "source": [
    "len(agent._memory_buffer)"
   ]
  },
  {
   "cell_type": "code",
   "execution_count": 15,
   "metadata": {},
   "outputs": [],
   "source": [
    "class CheckPointer(BaseCallback):\n",
    "    def __init__(self, agent, environment, learner):\n",
    "        self._agent = agent\n",
    "        self._environment = environment\n",
    "        self._learner = learner\n",
    "        self._counter = 0\n",
    "        self._stats = [-float('inf'), None]\n",
    "        self._evaluate = True\n",
    "        self._filepath = 'cp_log.txt'\n",
    "        \n",
    "    def on_step_end(self, action, observation, reward, done):\n",
    "        self._counter += 1\n",
    "        if self._counter % 25_000 == 0:\n",
    "            self._evaluate = True\n",
    "        if self._counter < 1_000_000:\n",
    "            self._evaluate = False\n",
    "            \n",
    "    def on_episode_end(self):\n",
    "        if self._evaluate:\n",
    "            self._evaluate = False\n",
    "            reward_recorder = RewardRecorder()\n",
    "            original_epsilon = self._agent.epsilon\n",
    "            self._agent.epsilon = 0.01\n",
    "            erlyx.run_episodes(\n",
    "                self._environment, \n",
    "                self._agent, \n",
    "                5, \n",
    "                [reward_recorder], \n",
    "                use_tqdm=False\n",
    "            )\n",
    "            self._agent.epsilon = original_epsilon\n",
    "            new_mean = np.mean(reward_recorder.rewards)\n",
    "            self._checkpoint('latest_checkpoint.sd')\n",
    "            if new_mean > self._stats[0]:\n",
    "                print('new best wachin!')\n",
    "                self._stats[0] = new_mean\n",
    "                self._stats[1] = reward_recorder.rewards\n",
    "                self._checkpoint('best_checkpoint.sd')\n",
    "            \n",
    "            with open(self._filepath, 'a') as file:\n",
    "                file.write(datetime.now().strftime(\"%Y-%m-%d %H:%M:%S\"))\n",
    "                file.write('\\n')\n",
    "                file.write(f'new mean: {new_mean} ({reward_recorder.rewards})')\n",
    "                file.write('\\n')\n",
    "                file.write(f'best mean: {self._stats[0]} ({self._stats[1]})')\n",
    "                file.write('\\n')\n",
    "            print(f'[Evaluation] mean: {new_mean}, rewards: {reward_recorder.rewards}')\n",
    "            \n",
    "    \n",
    "    def _checkpoint(self, path):\n",
    "        state = {\n",
    "            'model': self._agent.policy.model.state_dict(), \n",
    "            'optimizer': self._learner.optimizer.state_dict()\n",
    "        }\n",
    "        torch.save(state, path)"
   ]
  },
  {
   "cell_type": "code",
   "execution_count": 16,
   "metadata": {},
   "outputs": [],
   "source": [
    "class QValueTracker(BaseCallback):\n",
    "    def __init__(self, policy, initial_state = None):\n",
    "        self._policy = policy\n",
    "        self.record = []\n",
    "        self.initial_state = initial_state\n",
    "\n",
    "    def on_episode_begin(self, initial_observation):\n",
    "        if self.initial_state is None:\n",
    "            self.initial_state = self._policy.process_observation(initial_observation)\n",
    "\n",
    "    def on_step_end(self, action, observation, reward, done):\n",
    "        with torch.no_grad():\n",
    "            self._policy.model.eval()\n",
    "            self.record.append(self._policy.model(self.initial_state))\n",
    "            \n",
    "    def plot(self, action):\n",
    "        plt.plot(np.asarray(list(map(lambda x: x.data.cpu().numpy()[0], self.record)))[:, action])"
   ]
  },
  {
   "cell_type": "code",
   "execution_count": 17,
   "metadata": {},
   "outputs": [
    {
     "name": "stderr",
     "output_type": "stream",
     "text": [
      "/home/schouhy/anaconda3/envs/rl/lib/python3.6/site-packages/gym/envs/registration.py:14: PkgResourcesDeprecationWarning: Parameters to load are deprecated.  Call .resolve and .require separately.\n",
      "  result = entry_point.load(False)\n"
     ]
    }
   ],
   "source": [
    "train_callbacks = [\n",
    "    AgentMemoryReseter(agent=agent),\n",
    "    TransitionRecorder(dataset), \n",
    "    OnlineUpdater(learner, dataset, 1_000_000, 1),\n",
    "    LinearEpsilonDecay(agent, 1., 0.1, 1e-6),\n",
    "    RewardRecorder(),\n",
    "    #QValueTracker(policy, initial_state=None),\n",
    "    CheckPointer(agent, BWGymEnvironment('Seaquest-v0', simplified_reward=False), learner)\n",
    "]"
   ]
  },
  {
   "cell_type": "code",
   "execution_count": null,
   "metadata": {
    "scrolled": true
   },
   "outputs": [
    {
     "data": {
      "application/vnd.jupyter.widget-view+json": {
       "model_id": "300d0a8ec76242289c89d450d6931a58",
       "version_major": 2,
       "version_minor": 0
      },
      "text/plain": [
       "HBox(children=(FloatProgress(value=0.0, max=12000000.0), HTML(value='')))"
      ]
     },
     "metadata": {},
     "output_type": "display_data"
    },
    {
     "name": "stdout",
     "output_type": "stream",
     "text": [
      "new best wachin!\n",
      "[Evaluation] mean: 4220.0, rewards: [5250.0, 2440.0, 5710.0, 4010.0, 3690.0]\n",
      "new best wachin!\n",
      "[Evaluation] mean: 5324.0, rewards: [3240.0, 7030.0, 2980.0, 8470.0, 4900.0]\n",
      "new best wachin!\n",
      "[Evaluation] mean: 6736.0, rewards: [5100.0, 9460.0, 9210.0, 6130.0, 3780.0]\n",
      "[Evaluation] mean: 5942.0, rewards: [3800.0, 3970.0, 5270.0, 11100.0, 5570.0]\n",
      "new best wachin!\n",
      "[Evaluation] mean: 9098.0, rewards: [7310.0, 14190.0, 4540.0, 6630.0, 12820.0]\n",
      "new best wachin!\n",
      "[Evaluation] mean: 12934.0, rewards: [7750.0, 18330.0, 10850.0, 9070.0, 18670.0]\n",
      "[Evaluation] mean: 9792.0, rewards: [12860.0, 7870.0, 14850.0, 9280.0, 4100.0]\n",
      "[Evaluation] mean: 9214.0, rewards: [8980.0, 7240.0, 11070.0, 12070.0, 6710.0]\n",
      "[Evaluation] mean: 7458.0, rewards: [8510.0, 7960.0, 9420.0, 4540.0, 6860.0]\n",
      "[Evaluation] mean: 10574.0, rewards: [6500.0, 8480.0, 19530.0, 12120.0, 6240.0]\n",
      "[Evaluation] mean: 8388.0, rewards: [7730.0, 8060.0, 9470.0, 9680.0, 7000.0]\n",
      "[Evaluation] mean: 6926.0, rewards: [4990.0, 9190.0, 2500.0, 3240.0, 14710.0]\n",
      "[Evaluation] mean: 4784.0, rewards: [5820.0, 6920.0, 4800.0, 2900.0, 3480.0]\n",
      "[Evaluation] mean: 6166.0, rewards: [8190.0, 4180.0, 4450.0, 4620.0, 9390.0]\n",
      "[Evaluation] mean: 10136.0, rewards: [7200.0, 19880.0, 5730.0, 6130.0, 11740.0]\n",
      "[Evaluation] mean: 11978.0, rewards: [7240.0, 13520.0, 15830.0, 12110.0, 11190.0]\n",
      "[Evaluation] mean: 7750.0, rewards: [7240.0, 5670.0, 15900.0, 5040.0, 4900.0]\n",
      "[Evaluation] mean: 11244.0, rewards: [16460.0, 9940.0, 9020.0, 11130.0, 9670.0]\n",
      "[Evaluation] mean: 6892.0, rewards: [9840.0, 9420.0, 2600.0, 5100.0, 7500.0]\n",
      "[Evaluation] mean: 7374.0, rewards: [7150.0, 11860.0, 7110.0, 5710.0, 5040.0]\n",
      "[Evaluation] mean: 10256.0, rewards: [8920.0, 15000.0, 5020.0, 7550.0, 14790.0]\n",
      "[Evaluation] mean: 10040.0, rewards: [7950.0, 12670.0, 9210.0, 6360.0, 14010.0]\n",
      "[Evaluation] mean: 12824.0, rewards: [1940.0, 3460.0, 28810.0, 13460.0, 16450.0]\n",
      "[Evaluation] mean: 7396.0, rewards: [7850.0, 7790.0, 4480.0, 9580.0, 7280.0]\n",
      "[Evaluation] mean: 11448.0, rewards: [16220.0, 8250.0, 2890.0, 17630.0, 12250.0]\n",
      "[Evaluation] mean: 7768.0, rewards: [10780.0, 9880.0, 6390.0, 4460.0, 7330.0]\n",
      "[Evaluation] mean: 7528.0, rewards: [5240.0, 4610.0, 12940.0, 8890.0, 5960.0]\n",
      "[Evaluation] mean: 5908.0, rewards: [4240.0, 4750.0, 4300.0, 12690.0, 3560.0]\n",
      "[Evaluation] mean: 9138.0, rewards: [16770.0, 2870.0, 11490.0, 11400.0, 3160.0]\n",
      "[Evaluation] mean: 8428.0, rewards: [9610.0, 12390.0, 4140.0, 4990.0, 11010.0]\n",
      "[Evaluation] mean: 8552.0, rewards: [11320.0, 9080.0, 8260.0, 6120.0, 7980.0]\n",
      "[Evaluation] mean: 10290.0, rewards: [11600.0, 5080.0, 3760.0, 16360.0, 14650.0]\n",
      "[Evaluation] mean: 7526.0, rewards: [5070.0, 5840.0, 2680.0, 17050.0, 6990.0]\n",
      "[Evaluation] mean: 7690.0, rewards: [6310.0, 6950.0, 10810.0, 7820.0, 6560.0]\n",
      "[Evaluation] mean: 6054.0, rewards: [4100.0, 4900.0, 5000.0, 7050.0, 9220.0]\n",
      "[Evaluation] mean: 12030.0, rewards: [13250.0, 16460.0, 7650.0, 15900.0, 6890.0]\n",
      "[Evaluation] mean: 7812.0, rewards: [6160.0, 8250.0, 9390.0, 4240.0, 11020.0]\n"
     ]
    }
   ],
   "source": [
    "erlyx.run_steps(BWGymEnvironment('Seaquest-v0'), agent, 12_000_000, train_callbacks)"
   ]
  },
  {
   "cell_type": "code",
   "execution_count": 47,
   "metadata": {},
   "outputs": [
    {
     "data": {
      "application/vnd.jupyter.widget-view+json": {
       "model_id": "4b3ec12e11b0435090cc5eb7520506c0",
       "version_major": 2,
       "version_minor": 0
      },
      "text/plain": [
       "HBox(children=(FloatProgress(value=0.0, max=200.0), HTML(value='')))"
      ]
     },
     "metadata": {},
     "output_type": "display_data"
    },
    {
     "name": "stdout",
     "output_type": "stream",
     "text": [
      "\n"
     ]
    }
   ],
   "source": [
    "env = BWGymEnvironment('Seaquest-v0', repeat=4, simplified_reward=False)\n",
    "rr = RewardRecorder()\n",
    "erlyx.run_episodes(env, agent, 200, [AgentMemoryReseter(agent), rr])"
   ]
  },
  {
   "cell_type": "code",
   "execution_count": 26,
   "metadata": {},
   "outputs": [],
   "source": [
    "import pandas as pd"
   ]
  },
  {
   "cell_type": "code",
   "execution_count": 51,
   "metadata": {},
   "outputs": [
    {
     "data": {
      "text/plain": [
       "count      200.000000\n",
       "mean      8560.350000\n",
       "std       3094.868403\n",
       "min       3000.000000\n",
       "25%       6487.500000\n",
       "50%       8300.000000\n",
       "75%      10680.000000\n",
       "max      17650.000000\n",
       "dtype: float64"
      ]
     },
     "execution_count": 51,
     "metadata": {},
     "output_type": "execute_result"
    }
   ],
   "source": [
    "pd.Series(rr.rewards).describe()"
   ]
  },
  {
   "cell_type": "code",
   "execution_count": 48,
   "metadata": {},
   "outputs": [
    {
     "data": {
      "text/plain": [
       "8560.35"
      ]
     },
     "execution_count": 48,
     "metadata": {},
     "output_type": "execute_result"
    }
   ],
   "source": [
    "np.mean(rr.rewards)"
   ]
  },
  {
   "cell_type": "code",
   "execution_count": 22,
   "metadata": {},
   "outputs": [],
   "source": [
    "import matplotlib.pyplot as plt"
   ]
  },
  {
   "cell_type": "code",
   "execution_count": 23,
   "metadata": {},
   "outputs": [],
   "source": [
    "import pandas as pd"
   ]
  },
  {
   "cell_type": "code",
   "execution_count": 27,
   "metadata": {},
   "outputs": [
    {
     "data": {
      "text/plain": [
       "[AgentMemoryReseter,\n",
       " TransitionRecorder,\n",
       " OnlineUpdater,\n",
       " LinearEpsilonDecay,\n",
       " RewardRecorder,\n",
       " CheckPointer]"
      ]
     },
     "execution_count": 27,
     "metadata": {},
     "output_type": "execute_result"
    }
   ],
   "source": [
    "train_callbacks"
   ]
  },
  {
   "cell_type": "code",
   "execution_count": 29,
   "metadata": {
    "scrolled": true
   },
   "outputs": [
    {
     "data": {
      "text/plain": [
       "<matplotlib.axes._subplots.AxesSubplot at 0x7f62aa47f7b8>"
      ]
     },
     "execution_count": 29,
     "metadata": {},
     "output_type": "execute_result"
    },
    {
     "data": {
      "image/png": "[encoded data removed]",
      "text/plain": [
       "<Figure size 432x288 with 1 Axes>"
      ]
     },
     "metadata": {
      "needs_background": "light"
     },
     "output_type": "display_data"
    }
   ],
   "source": [
    "train_callbacks[-2].plot_rewards()\n",
    "pd.Series(train_callbacks[-2].rewards).ewm(alpha=0.01).mean().plot()"
   ]
  },
  {
   "cell_type": "code",
   "execution_count": null,
   "metadata": {},
   "outputs": [],
   "source": [
    "train_callbacks[-2].plot(0)"
   ]
  },
  {
   "cell_type": "code",
   "execution_count": null,
   "metadata": {},
   "outputs": [],
   "source": [
    "len(dataset._memory)"
   ]
  },
  {
   "cell_type": "code",
   "execution_count": null,
   "metadata": {},
   "outputs": [],
   "source": [
    "train_callbacks"
   ]
  },
  {
   "cell_type": "code",
   "execution_count": null,
   "metadata": {
    "scrolled": true
   },
   "outputs": [],
   "source": [
    "train_callbacks[-1].record[0].tolist()[0]"
   ]
  },
  {
   "cell_type": "code",
   "execution_count": null,
   "metadata": {},
   "outputs": [],
   "source": [
    "sasa = list(map(lambda x: x.tolist()[0], train_callbacks[-1].record))"
   ]
  },
  {
   "cell_type": "code",
   "execution_count": null,
   "metadata": {},
   "outputs": [],
   "source": [
    "sasa["
   ]
  },
  {
   "cell_type": "code",
   "execution_count": null,
   "metadata": {},
   "outputs": [],
   "source": [
    "pd.Series(sasa).plot()"
   ]
  },
  {
   "cell_type": "code",
   "execution_count": null,
   "metadata": {},
   "outputs": [],
   "source": []
  }
 ],
 "metadata": {
  "kernelspec": {
   "display_name": "Python 3",
   "language": "python",
   "name": "python3"
  },
  "language_info": {
   "codemirror_mode": {
    "name": "ipython",
    "version": 3
   },
   "file_extension": ".py",
   "mimetype": "text/x-python",
   "name": "python",
   "nbconvert_exporter": "python",
   "pygments_lexer": "ipython3",
   "version": "3.6.10"
  }
 },
 "nbformat": 4,
 "nbformat_minor": 2
}
