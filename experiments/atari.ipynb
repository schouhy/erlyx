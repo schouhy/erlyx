{
 "cells": [
  {
   "cell_type": "code",
   "execution_count": 1,
   "metadata": {},
   "outputs": [],
   "source": [
    "from erlyx.environment import BaseEnvironment, Episode, GymEnvironment\n",
    "from erlyx import types\n",
    "\n",
    "import numpy as np\n",
    "\n",
    "import cv2"
   ]
  },
  {
   "cell_type": "code",
   "execution_count": 2,
   "metadata": {},
   "outputs": [],
   "source": [
    "from erlyx.policies import PytorchPolicy, FeedForwardNetworkPolicy\n",
    "from erlyx.agents import EpsilonGreedyAgent\n",
    "from erlyx.datasets import DequeDataset\n",
    "from erlyx.algorithms.ddqn import DoubleDeepQLearner\n",
    "from erlyx.callbacks import *\n",
    "\n",
    "import erlyx\n",
    "\n",
    "import torch"
   ]
  },
  {
   "cell_type": "code",
   "execution_count": 3,
   "metadata": {},
   "outputs": [],
   "source": [
    "from collections import deque"
   ]
  },
  {
   "cell_type": "code",
   "execution_count": 4,
   "metadata": {},
   "outputs": [],
   "source": [
    "class DiscreteRewradGymEnvironment(GymEnvironment):\n",
    "    HISTORY_LEN = 4\n",
    "    def __init__(self, env_name, simplified_reward=True):\n",
    "        super(DiscreteRewradGymEnvironment, self).__init__(env_name)\n",
    "        self._observation_buffer = deque(maxlen=self.HISTORY_LEN)\n",
    "        self._simplified_reward = simplified_reward\n",
    "        \n",
    "    def new_episode(self) -> (Episode, types.ObservationType):\n",
    "        observation = self.gym_env.reset()\n",
    "        for _ in range(self.HISTORY_LEN):\n",
    "            self._observation_buffer.append(observation)\n",
    "        return self, self._get_observation()\n",
    "    \n",
    "    def step(self, action):\n",
    "        reward = 0\n",
    "        for _ in range(1):\n",
    "            observation, _reward, done, = self._step(action)\n",
    "            reward += _reward\n",
    "        self._observation_buffer.append(observation)\n",
    "        return types.EpisodeStatus(self._get_observation(), reward, done)\n",
    "    \n",
    "    def _step(self, action: types.ActionType) -> types.EpisodeStatus:\n",
    "        observation, reward, done, _ = self.gym_env.step(action)\n",
    "        if self._simplified_reward:\n",
    "            if reward > 0:\n",
    "                reward = 1\n",
    "            elif reward < 0:\n",
    "                reward = -1\n",
    "            else:\n",
    "                reward = 0\n",
    "        return types.EpisodeStatus(observation, reward, done)\n",
    "    \n",
    "    def _get_observation(self):\n",
    "        return np.array([self.downsample(o) for o in self._observation_buffer])\n",
    "\n",
    "    def downsample(self, img):\n",
    "        return img[::2, ::2, :]"
   ]
  },
  {
   "cell_type": "code",
   "execution_count": 5,
   "metadata": {},
   "outputs": [],
   "source": [
    "class ConvNetwork(torch.nn.Module):\n",
    "    def __init__(self):\n",
    "        print('original')\n",
    "        super(ConvNetwork, self).__init__()\n",
    "        self._conv1 = torch.nn.Sequential(\n",
    "            torch.nn.Conv2d(4, 32, kernel_size=8, stride=4),\n",
    "            torch.nn.ReLU(),\n",
    "            torch.nn.Conv2d(32, 64, kernel_size=3, stride=2),\n",
    "            torch.nn.ReLU(),\n",
    "            torch.nn.Conv2d(64, 64, kernel_size=3, stride=1),\n",
    "            torch.nn.ReLU(),\n",
    "        )\n",
    "        self._linear = torch.nn.Sequential(\n",
    "            torch.nn.Linear(64*70, 256),\n",
    "            torch.nn.ReLU(),\n",
    "            torch.nn.Linear(256,  num_actions)\n",
    "        )\n",
    "                \n",
    "    def forward(self, x):\n",
    "        if len(x.shape) == 3:\n",
    "            x = x.unsqueeze(0)\n",
    "        output = self._conv1(x)\n",
    "        output = output.view(x.shape[0], -1)\n",
    "        output = self._linear(output)\n",
    "        return output"
   ]
  },
  {
   "cell_type": "code",
   "execution_count": 6,
   "metadata": {},
   "outputs": [],
   "source": [
    "class CNNPolicy(PytorchPolicy):\n",
    "    def __init__(self):\n",
    "        self._model = ConvNetwork()\n",
    "        \n",
    "    @property\n",
    "    def model(self):\n",
    "        return self._model\n",
    "    \n",
    "    def process_observation(self, observation):\n",
    "        r, g, b = observation[:, :, :, 0], observation[:, :, :, 1], observation[:, :, :, 2]\n",
    "        gray = 0.2989 * r + 0.5870 * g + 0.1140 * b     # extract luminance\n",
    "        tensor = torch.Tensor(gray/128. - 1.)/0.35 # divided by 0.35 because of standard deviation\n",
    "        return tensor\n",
    "        \n",
    "    def get_distribution(self, state):\n",
    "        with torch.no_grad():\n",
    "            self.model.eval()\n",
    "            q_values = self.model(self.process_observation(state))\n",
    "            distribution = torch.nn.functional.softmax(q_values, dim=1)\n",
    "        return distribution.data.cpu().numpy().reshape(-1)\n",
    "    \n",
    "    def num_actions(self) -> int:\n",
    "        return num_actions\n"
   ]
  },
  {
   "cell_type": "code",
   "execution_count": 8,
   "metadata": {},
   "outputs": [],
   "source": [
    "#cp = torch.load('best_checkpoint.sd')"
   ]
  },
  {
   "cell_type": "code",
   "execution_count": 9,
   "metadata": {
    "scrolled": true
   },
   "outputs": [
    {
     "name": "stdout",
     "output_type": "stream",
     "text": [
      "original\n"
     ]
    }
   ],
   "source": [
    "num_actions = 18\n",
    "policy = CNNPolicy()\n",
    "#policy.model.load_state_dict(cp['model'])\n",
    "dataset = DequeDataset(100_000)\n",
    "agent = EpsilonGreedyAgent(policy, 0.)\n",
    "learner = DoubleDeepQLearner(32, policy, 1e-4/4, 10_000, loss_func=torch.nn.SmoothL1Loss())\n",
    "#learner.optimizer.load_state_dict(cp['optimizer'])"
   ]
  },
  {
   "cell_type": "code",
   "execution_count": 10,
   "metadata": {},
   "outputs": [],
   "source": [
    "class CheckPointer(BaseCallback):\n",
    "    def __init__(self, agent, environment, learner):\n",
    "        self._agent = agent\n",
    "        self._environment = environment\n",
    "        self._learner = learner\n",
    "        self._rewards = []\n",
    "        self._counter = 0\n",
    "        self._best_mean = -float('inf')\n",
    "        \n",
    "    def on_episode_end(self):\n",
    "        self._counter += 1\n",
    "        if self._counter % 15 == 0:\n",
    "            reward_recorder = RewardRecorder()\n",
    "            original_epsilon = self._agent.epsilon\n",
    "            self._agent.epsilon = 0.05\n",
    "            erlyx.run_episodes(\n",
    "                self._environment, \n",
    "                self._agent, \n",
    "                5, \n",
    "                [reward_recorder], \n",
    "                use_tqdm=False\n",
    "            )\n",
    "            self._agent.epsilon = original_epsilon\n",
    "            self._rewards.append(reward_recorder.rewards)\n",
    "            new_mean = np.mean(reward_recorder.rewards)\n",
    "            print(f'[Evaluation] mean: {new_mean}, rewards: {reward_recorder.rewards}')\n",
    "            self._checkpoint('latest_checkpoint.sd')\n",
    "            if new_mean > self._best_mean:\n",
    "                print('new best wachin!')\n",
    "                self._best_mean = new_mean\n",
    "                self._checkpoint('best_checkpoint.sd')\n",
    "    \n",
    "    def _checkpoint(self, path):\n",
    "        state = {\n",
    "            'model': self._agent.policy.model.state_dict(), \n",
    "            'optimizer': self._learner.optimizer.state_dict()\n",
    "        }\n",
    "        torch.save(state, path)"
   ]
  },
  {
   "cell_type": "code",
   "execution_count": 11,
   "metadata": {},
   "outputs": [],
   "source": [
    "class QValueTracker(BaseCallback):\n",
    "    def __init__(self, policy, initial_state = None):\n",
    "        self._policy = policy\n",
    "        self.record = []\n",
    "        self.initial_state = initial_state\n",
    "\n",
    "    def on_episode_begin(self, initial_observation):\n",
    "        if self.initial_state is None:\n",
    "            self.initial_state = self._policy.process_observation(initial_observation)\n",
    "\n",
    "    def on_step_end(self, action, observation, reward, done):\n",
    "        with torch.no_grad():\n",
    "            self._policy.model.eval()\n",
    "            self.record.append(self._policy.model(self.initial_state))\n",
    "            \n",
    "    def plot(self, action):\n",
    "        plt.plot(np.asarray(list(map(lambda x: x.data.cpu().numpy()[0], self.record)))[:, action])"
   ]
  },
  {
   "cell_type": "code",
   "execution_count": 14,
   "metadata": {},
   "outputs": [],
   "source": [
    "train_callbacks = [\n",
    "    TransitionRecorder(dataset), \n",
    "    OnlineUpdater(learner, dataset, 100_000, 1),\n",
    "    LinearEpsilonDecay(agent, 1., 0.1, 1e-06),\n",
    "    RewardRecorder(),\n",
    "    QValueTracker(policy, initial_state=None),\n",
    "    CheckPointer(agent, DiscreteRewradGymEnvironment('Seaquest-v0', simplified_reward=False), learner)\n",
    "]"
   ]
  },
  {
   "cell_type": "code",
   "execution_count": 15,
   "metadata": {
    "scrolled": true
   },
   "outputs": [
    {
     "data": {
      "application/vnd.jupyter.widget-view+json": {
       "model_id": "87b93e4f98994e90b0bef2c3a7c48599",
       "version_major": 2,
       "version_minor": 0
      },
      "text/plain": [
       "HBox(children=(FloatProgress(value=0.0, max=7000000.0), HTML(value='')))"
      ]
     },
     "metadata": {},
     "output_type": "display_data"
    },
    {
     "name": "stdout",
     "output_type": "stream",
     "text": [
      "[Evaluation] mean: 1176.0, rewards: [1600.0, 1160.0, 1180.0, 980.0, 960.0]\n",
      "new best wachin!\n",
      "[Evaluation] mean: 1344.0, rewards: [1460.0, 1660.0, 1340.0, 1040.0, 1220.0]\n",
      "new best wachin!\n",
      "[Evaluation] mean: 1480.0, rewards: [1380.0, 1060.0, 1580.0, 1480.0, 1900.0]\n",
      "new best wachin!\n",
      "[Evaluation] mean: 748.0, rewards: [200.0, 960.0, 640.0, 960.0, 980.0]\n",
      "[Evaluation] mean: 844.0, rewards: [920.0, 1260.0, 520.0, 820.0, 700.0]\n",
      "[Evaluation] mean: 1044.0, rewards: [920.0, 500.0, 960.0, 1540.0, 1300.0]\n",
      "[Evaluation] mean: 1232.0, rewards: [1580.0, 1360.0, 620.0, 1180.0, 1420.0]\n",
      "[Evaluation] mean: 1104.0, rewards: [1200.0, 920.0, 1260.0, 1260.0, 880.0]\n",
      "[Evaluation] mean: 1140.0, rewards: [1440.0, 1540.0, 640.0, 1340.0, 740.0]\n",
      "[Evaluation] mean: 1424.0, rewards: [1440.0, 1040.0, 1200.0, 1560.0, 1880.0]\n",
      "[Evaluation] mean: 960.0, rewards: [880.0, 680.0, 1600.0, 720.0, 920.0]\n",
      "[Evaluation] mean: 1052.0, rewards: [1260.0, 1420.0, 1040.0, 440.0, 1100.0]\n",
      "[Evaluation] mean: 1008.0, rewards: [880.0, 520.0, 1640.0, 1080.0, 920.0]\n",
      "[Evaluation] mean: 1056.0, rewards: [1120.0, 1140.0, 1460.0, 680.0, 880.0]\n",
      "[Evaluation] mean: 1176.0, rewards: [660.0, 640.0, 1100.0, 1800.0, 1680.0]\n",
      "[Evaluation] mean: 1420.0, rewards: [1380.0, 1680.0, 1340.0, 1840.0, 860.0]\n",
      "[Evaluation] mean: 1212.0, rewards: [1580.0, 360.0, 1500.0, 920.0, 1700.0]\n",
      "[Evaluation] mean: 1320.0, rewards: [1380.0, 1500.0, 1600.0, 860.0, 1260.0]\n",
      "[Evaluation] mean: 1164.0, rewards: [1460.0, 420.0, 1260.0, 1400.0, 1280.0]\n",
      "[Evaluation] mean: 768.0, rewards: [920.0, 580.0, 1080.0, 500.0, 760.0]\n",
      "[Evaluation] mean: 1212.0, rewards: [1340.0, 1600.0, 1280.0, 980.0, 860.0]\n",
      "[Evaluation] mean: 1028.0, rewards: [840.0, 700.0, 1080.0, 1600.0, 920.0]\n",
      "[Evaluation] mean: 712.0, rewards: [320.0, 440.0, 720.0, 960.0, 1120.0]\n",
      "[Evaluation] mean: 1340.0, rewards: [960.0, 1280.0, 1740.0, 1040.0, 1680.0]\n",
      "[Evaluation] mean: 1252.0, rewards: [1160.0, 1420.0, 1400.0, 640.0, 1640.0]\n",
      "[Evaluation] mean: 1060.0, rewards: [1260.0, 1080.0, 1300.0, 560.0, 1100.0]\n",
      "[Evaluation] mean: 772.0, rewards: [1140.0, 640.0, 200.0, 1120.0, 760.0]\n",
      "[Evaluation] mean: 1012.0, rewards: [920.0, 1080.0, 880.0, 1080.0, 1100.0]\n",
      "[Evaluation] mean: 1176.0, rewards: [1080.0, 1440.0, 1400.0, 900.0, 1060.0]\n",
      "[Evaluation] mean: 1484.0, rewards: [1340.0, 1680.0, 1400.0, 980.0, 2020.0]\n",
      "new best wachin!\n",
      "[Evaluation] mean: 1124.0, rewards: [1340.0, 1280.0, 900.0, 740.0, 1360.0]\n",
      "[Evaluation] mean: 1280.0, rewards: [1280.0, 1060.0, 1500.0, 1580.0, 980.0]\n",
      "[Evaluation] mean: 1012.0, rewards: [840.0, 1080.0, 1160.0, 900.0, 1080.0]\n",
      "[Evaluation] mean: 1504.0, rewards: [1460.0, 1640.0, 1520.0, 1440.0, 1460.0]\n",
      "new best wachin!\n",
      "[Evaluation] mean: 972.0, rewards: [1120.0, 860.0, 940.0, 900.0, 1040.0]\n",
      "[Evaluation] mean: 664.0, rewards: [760.0, 500.0, 320.0, 1080.0, 660.0]\n",
      "[Evaluation] mean: 1052.0, rewards: [880.0, 1240.0, 1680.0, 600.0, 860.0]\n",
      "[Evaluation] mean: 1056.0, rewards: [680.0, 1040.0, 1640.0, 960.0, 960.0]\n"
     ]
    },
    {
     "ename": "KeyboardInterrupt",
     "evalue": "",
     "output_type": "error",
     "traceback": [
      "\u001b[0;31m---------------------------------------------------------------------------\u001b[0m",
      "\u001b[0;31mKeyboardInterrupt\u001b[0m                         Traceback (most recent call last)",
      "\u001b[0;32m<ipython-input-15-bb62ffdbfad7>\u001b[0m in \u001b[0;36m<module>\u001b[0;34m\u001b[0m\n\u001b[0;32m----> 1\u001b[0;31m \u001b[0merlyx\u001b[0m\u001b[0;34m.\u001b[0m\u001b[0mrun_steps\u001b[0m\u001b[0;34m(\u001b[0m\u001b[0mDiscreteRewradGymEnvironment\u001b[0m\u001b[0;34m(\u001b[0m\u001b[0;34m'Seaquest-v0'\u001b[0m\u001b[0;34m)\u001b[0m\u001b[0;34m,\u001b[0m \u001b[0magent\u001b[0m\u001b[0;34m,\u001b[0m \u001b[0;36m7_000_000\u001b[0m\u001b[0;34m,\u001b[0m \u001b[0mtrain_callbacks\u001b[0m\u001b[0;34m)\u001b[0m\u001b[0;34m\u001b[0m\u001b[0;34m\u001b[0m\u001b[0m\n\u001b[0m",
      "\u001b[0;32m~/anaconda3/envs/rl/lib/python3.6/site-packages/erlyx-0.0.1-py3.6.egg/erlyx/run.py\u001b[0m in \u001b[0;36mrun_steps\u001b[0;34m(environment, agent, n_steps, callbacks, use_tqdm)\u001b[0m\n\u001b[1;32m     40\u001b[0m             \u001b[0maction\u001b[0m \u001b[0;34m=\u001b[0m \u001b[0magent\u001b[0m\u001b[0;34m.\u001b[0m\u001b[0mselect_action\u001b[0m\u001b[0;34m(\u001b[0m\u001b[0mobservation\u001b[0m\u001b[0;34m)\u001b[0m\u001b[0;34m\u001b[0m\u001b[0;34m\u001b[0m\u001b[0m\n\u001b[1;32m     41\u001b[0m             \u001b[0mobservation\u001b[0m\u001b[0;34m,\u001b[0m \u001b[0mreward\u001b[0m\u001b[0;34m,\u001b[0m \u001b[0mdone\u001b[0m \u001b[0;34m=\u001b[0m \u001b[0mepisode\u001b[0m\u001b[0;34m.\u001b[0m\u001b[0mstep\u001b[0m\u001b[0;34m(\u001b[0m\u001b[0maction\u001b[0m\u001b[0;34m)\u001b[0m\u001b[0;34m\u001b[0m\u001b[0;34m\u001b[0m\u001b[0m\n\u001b[0;32m---> 42\u001b[0;31m             \u001b[0;32mif\u001b[0m \u001b[0mcallbacks\u001b[0m\u001b[0;34m.\u001b[0m\u001b[0mcall\u001b[0m\u001b[0;34m(\u001b[0m\u001b[0mevent\u001b[0m\u001b[0;34m=\u001b[0m\u001b[0;34m'on_step_end'\u001b[0m\u001b[0;34m,\u001b[0m \u001b[0maction\u001b[0m\u001b[0;34m=\u001b[0m\u001b[0maction\u001b[0m\u001b[0;34m,\u001b[0m \u001b[0mobservation\u001b[0m\u001b[0;34m=\u001b[0m\u001b[0mobservation\u001b[0m\u001b[0;34m,\u001b[0m \u001b[0mreward\u001b[0m\u001b[0;34m=\u001b[0m\u001b[0mreward\u001b[0m\u001b[0;34m,\u001b[0m \u001b[0mdone\u001b[0m\u001b[0;34m=\u001b[0m\u001b[0mdone\u001b[0m\u001b[0;34m)\u001b[0m\u001b[0;34m:\u001b[0m \u001b[0;32mbreak\u001b[0m\u001b[0;34m\u001b[0m\u001b[0;34m\u001b[0m\u001b[0m\n\u001b[0m\u001b[1;32m     43\u001b[0m             \u001b[0mepisode_counter\u001b[0m \u001b[0;34m+=\u001b[0m \u001b[0;36m1\u001b[0m\u001b[0;34m\u001b[0m\u001b[0;34m\u001b[0m\u001b[0m\n\u001b[1;32m     44\u001b[0m             \u001b[0;32mif\u001b[0m \u001b[0muse_tqdm\u001b[0m\u001b[0;34m:\u001b[0m\u001b[0;34m\u001b[0m\u001b[0;34m\u001b[0m\u001b[0m\n",
      "\u001b[0;32m~/anaconda3/envs/rl/lib/python3.6/site-packages/erlyx-0.0.1-py3.6.egg/erlyx/callbacks/base.py\u001b[0m in \u001b[0;36mcall\u001b[0;34m(self, event, **params)\u001b[0m\n\u001b[1;32m     48\u001b[0m         \u001b[0moutputs\u001b[0m \u001b[0;34m=\u001b[0m \u001b[0;34m[\u001b[0m\u001b[0;34m]\u001b[0m\u001b[0;34m\u001b[0m\u001b[0;34m\u001b[0m\u001b[0m\n\u001b[1;32m     49\u001b[0m         \u001b[0;32mfor\u001b[0m \u001b[0mcb\u001b[0m \u001b[0;32min\u001b[0m \u001b[0mself\u001b[0m\u001b[0;34m.\u001b[0m\u001b[0m_callbacks\u001b[0m\u001b[0;34m:\u001b[0m\u001b[0;34m\u001b[0m\u001b[0;34m\u001b[0m\u001b[0m\n\u001b[0;32m---> 50\u001b[0;31m             \u001b[0moutputs\u001b[0m\u001b[0;34m.\u001b[0m\u001b[0mappend\u001b[0m\u001b[0;34m(\u001b[0m\u001b[0mcb\u001b[0m\u001b[0;34m.\u001b[0m\u001b[0mcall\u001b[0m\u001b[0;34m(\u001b[0m\u001b[0mevent\u001b[0m\u001b[0;34m,\u001b[0m \u001b[0;34m**\u001b[0m\u001b[0mparams\u001b[0m\u001b[0;34m)\u001b[0m\u001b[0;34m)\u001b[0m\u001b[0;34m\u001b[0m\u001b[0;34m\u001b[0m\u001b[0m\n\u001b[0m\u001b[1;32m     51\u001b[0m         \u001b[0mself\u001b[0m\u001b[0;34m.\u001b[0m\u001b[0m_state\u001b[0m \u001b[0;34m=\u001b[0m \u001b[0moutputs\u001b[0m\u001b[0;34m\u001b[0m\u001b[0;34m\u001b[0m\u001b[0m\n\u001b[1;32m     52\u001b[0m         \u001b[0;32mreturn\u001b[0m \u001b[0many\u001b[0m\u001b[0;34m(\u001b[0m\u001b[0moutputs\u001b[0m\u001b[0;34m)\u001b[0m\u001b[0;34m\u001b[0m\u001b[0;34m\u001b[0m\u001b[0m\n",
      "\u001b[0;32m~/anaconda3/envs/rl/lib/python3.6/site-packages/erlyx-0.0.1-py3.6.egg/erlyx/callbacks/base.py\u001b[0m in \u001b[0;36mcall\u001b[0;34m(self, event, **params)\u001b[0m\n\u001b[1;32m      4\u001b[0m \u001b[0;32mclass\u001b[0m \u001b[0mBaseCallback\u001b[0m\u001b[0;34m:\u001b[0m\u001b[0;34m\u001b[0m\u001b[0;34m\u001b[0m\u001b[0m\n\u001b[1;32m      5\u001b[0m     \u001b[0;32mdef\u001b[0m \u001b[0mcall\u001b[0m\u001b[0;34m(\u001b[0m\u001b[0mself\u001b[0m\u001b[0;34m,\u001b[0m \u001b[0mevent\u001b[0m\u001b[0;34m:\u001b[0m \u001b[0mstr\u001b[0m\u001b[0;34m,\u001b[0m \u001b[0;34m**\u001b[0m\u001b[0mparams\u001b[0m\u001b[0;34m:\u001b[0m \u001b[0mdict\u001b[0m\u001b[0;34m)\u001b[0m \u001b[0;34m->\u001b[0m \u001b[0mtypes\u001b[0m\u001b[0;34m.\u001b[0m\u001b[0mOptional\u001b[0m\u001b[0;34m[\u001b[0m\u001b[0mbool\u001b[0m\u001b[0;34m]\u001b[0m\u001b[0;34m:\u001b[0m\u001b[0;34m\u001b[0m\u001b[0;34m\u001b[0m\u001b[0m\n\u001b[0;32m----> 6\u001b[0;31m         \u001b[0;32mreturn\u001b[0m \u001b[0mgetattr\u001b[0m\u001b[0;34m(\u001b[0m\u001b[0mself\u001b[0m\u001b[0;34m,\u001b[0m \u001b[0mevent\u001b[0m\u001b[0;34m)\u001b[0m\u001b[0;34m(\u001b[0m\u001b[0;34m**\u001b[0m\u001b[0mparams\u001b[0m\u001b[0;34m)\u001b[0m\u001b[0;34m\u001b[0m\u001b[0;34m\u001b[0m\u001b[0m\n\u001b[0m\u001b[1;32m      7\u001b[0m \u001b[0;34m\u001b[0m\u001b[0m\n\u001b[1;32m      8\u001b[0m     \u001b[0;32mdef\u001b[0m \u001b[0m__repr__\u001b[0m\u001b[0;34m(\u001b[0m\u001b[0mself\u001b[0m\u001b[0;34m)\u001b[0m\u001b[0;34m:\u001b[0m\u001b[0;34m\u001b[0m\u001b[0;34m\u001b[0m\u001b[0m\n",
      "\u001b[0;32m~/anaconda3/envs/rl/lib/python3.6/site-packages/erlyx-0.0.1-py3.6.egg/erlyx/callbacks/updaters.py\u001b[0m in \u001b[0;36mon_step_end\u001b[0;34m(self, action, observation, reward, done)\u001b[0m\n\u001b[1;32m     26\u001b[0m         \u001b[0;32mif\u001b[0m \u001b[0mself\u001b[0m\u001b[0;34m.\u001b[0m\u001b[0m_num_observations\u001b[0m \u001b[0;34m%\u001b[0m \u001b[0mself\u001b[0m\u001b[0;34m.\u001b[0m\u001b[0m_update_frequency\u001b[0m \u001b[0;34m!=\u001b[0m \u001b[0;36m0\u001b[0m\u001b[0;34m:\u001b[0m\u001b[0;34m\u001b[0m\u001b[0;34m\u001b[0m\u001b[0m\n\u001b[1;32m     27\u001b[0m             \u001b[0;32mreturn\u001b[0m\u001b[0;34m\u001b[0m\u001b[0;34m\u001b[0m\u001b[0m\n\u001b[0;32m---> 28\u001b[0;31m         \u001b[0mself\u001b[0m\u001b[0;34m.\u001b[0m\u001b[0m_learner\u001b[0m\u001b[0;34m.\u001b[0m\u001b[0mupdate\u001b[0m\u001b[0;34m(\u001b[0m\u001b[0mself\u001b[0m\u001b[0;34m.\u001b[0m\u001b[0m_dataset\u001b[0m\u001b[0;34m)\u001b[0m\u001b[0;34m\u001b[0m\u001b[0;34m\u001b[0m\u001b[0m\n\u001b[0m\u001b[1;32m     29\u001b[0m \u001b[0;34m\u001b[0m\u001b[0m\n\u001b[1;32m     30\u001b[0m \u001b[0;34m\u001b[0m\u001b[0m\n",
      "\u001b[0;32m~/anaconda3/envs/rl/lib/python3.6/site-packages/erlyx-0.0.1-py3.6.egg/erlyx/algorithms/ddqn.py\u001b[0m in \u001b[0;36mupdate\u001b[0;34m(self, dataset)\u001b[0m\n\u001b[1;32m     66\u001b[0m         \u001b[0;31m# Gradient descent\u001b[0m\u001b[0;34m\u001b[0m\u001b[0;34m\u001b[0m\u001b[0;34m\u001b[0m\u001b[0m\n\u001b[1;32m     67\u001b[0m         \u001b[0mself\u001b[0m\u001b[0;34m.\u001b[0m\u001b[0moptimizer\u001b[0m\u001b[0;34m.\u001b[0m\u001b[0mzero_grad\u001b[0m\u001b[0;34m(\u001b[0m\u001b[0;34m)\u001b[0m\u001b[0;34m\u001b[0m\u001b[0;34m\u001b[0m\u001b[0m\n\u001b[0;32m---> 68\u001b[0;31m         \u001b[0mloss\u001b[0m\u001b[0;34m.\u001b[0m\u001b[0mbackward\u001b[0m\u001b[0;34m(\u001b[0m\u001b[0;34m)\u001b[0m\u001b[0;34m\u001b[0m\u001b[0;34m\u001b[0m\u001b[0m\n\u001b[0m\u001b[1;32m     69\u001b[0m         \u001b[0;31m# torch.nn.utils.clip_grad_norm_(policy.model.parameters(), 0.5)\u001b[0m\u001b[0;34m\u001b[0m\u001b[0;34m\u001b[0m\u001b[0;34m\u001b[0m\u001b[0m\n\u001b[1;32m     70\u001b[0m         \u001b[0mself\u001b[0m\u001b[0;34m.\u001b[0m\u001b[0moptimizer\u001b[0m\u001b[0;34m.\u001b[0m\u001b[0mstep\u001b[0m\u001b[0;34m(\u001b[0m\u001b[0;34m)\u001b[0m\u001b[0;34m\u001b[0m\u001b[0;34m\u001b[0m\u001b[0m\n",
      "\u001b[0;32m~/anaconda3/envs/rl/lib/python3.6/site-packages/torch/tensor.py\u001b[0m in \u001b[0;36mbackward\u001b[0;34m(self, gradient, retain_graph, create_graph)\u001b[0m\n\u001b[1;32m    196\u001b[0m                 \u001b[0mproducts\u001b[0m\u001b[0;34m.\u001b[0m \u001b[0mDefaults\u001b[0m \u001b[0mto\u001b[0m\u001b[0;31m \u001b[0m\u001b[0;31m`\u001b[0m\u001b[0;31m`\u001b[0m\u001b[0;32mFalse\u001b[0m\u001b[0;31m`\u001b[0m\u001b[0;31m`\u001b[0m\u001b[0;34m.\u001b[0m\u001b[0;34m\u001b[0m\u001b[0;34m\u001b[0m\u001b[0m\n\u001b[1;32m    197\u001b[0m         \"\"\"\n\u001b[0;32m--> 198\u001b[0;31m         \u001b[0mtorch\u001b[0m\u001b[0;34m.\u001b[0m\u001b[0mautograd\u001b[0m\u001b[0;34m.\u001b[0m\u001b[0mbackward\u001b[0m\u001b[0;34m(\u001b[0m\u001b[0mself\u001b[0m\u001b[0;34m,\u001b[0m \u001b[0mgradient\u001b[0m\u001b[0;34m,\u001b[0m \u001b[0mretain_graph\u001b[0m\u001b[0;34m,\u001b[0m \u001b[0mcreate_graph\u001b[0m\u001b[0;34m)\u001b[0m\u001b[0;34m\u001b[0m\u001b[0;34m\u001b[0m\u001b[0m\n\u001b[0m\u001b[1;32m    199\u001b[0m \u001b[0;34m\u001b[0m\u001b[0m\n\u001b[1;32m    200\u001b[0m     \u001b[0;32mdef\u001b[0m \u001b[0mregister_hook\u001b[0m\u001b[0;34m(\u001b[0m\u001b[0mself\u001b[0m\u001b[0;34m,\u001b[0m \u001b[0mhook\u001b[0m\u001b[0;34m)\u001b[0m\u001b[0;34m:\u001b[0m\u001b[0;34m\u001b[0m\u001b[0;34m\u001b[0m\u001b[0m\n",
      "\u001b[0;32m~/anaconda3/envs/rl/lib/python3.6/site-packages/torch/autograd/__init__.py\u001b[0m in \u001b[0;36mbackward\u001b[0;34m(tensors, grad_tensors, retain_graph, create_graph, grad_variables)\u001b[0m\n\u001b[1;32m     98\u001b[0m     Variable._execution_engine.run_backward(\n\u001b[1;32m     99\u001b[0m         \u001b[0mtensors\u001b[0m\u001b[0;34m,\u001b[0m \u001b[0mgrad_tensors\u001b[0m\u001b[0;34m,\u001b[0m \u001b[0mretain_graph\u001b[0m\u001b[0;34m,\u001b[0m \u001b[0mcreate_graph\u001b[0m\u001b[0;34m,\u001b[0m\u001b[0;34m\u001b[0m\u001b[0;34m\u001b[0m\u001b[0m\n\u001b[0;32m--> 100\u001b[0;31m         allow_unreachable=True)  # allow_unreachable flag\n\u001b[0m\u001b[1;32m    101\u001b[0m \u001b[0;34m\u001b[0m\u001b[0m\n\u001b[1;32m    102\u001b[0m \u001b[0;34m\u001b[0m\u001b[0m\n",
      "\u001b[0;31mKeyboardInterrupt\u001b[0m: "
     ]
    }
   ],
   "source": [
    "erlyx.run_steps(DiscreteRewradGymEnvironment('Seaquest-v0'), agent, 7_000_000, train_callbacks)"
   ]
  },
  {
   "cell_type": "code",
   "execution_count": 5,
   "metadata": {
    "scrolled": true
   },
   "outputs": [
    {
     "name": "stderr",
     "output_type": "stream",
     "text": [
      "/home/schouhy/anaconda3/envs/rl/lib/python3.6/site-packages/gym/envs/registration.py:14: PkgResourcesDeprecationWarning: Parameters to load are deprecated.  Call .resolve and .require separately.\n",
      "  result = entry_point.load(False)\n"
     ]
    }
   ],
   "source": [
    "env = DiscreteRewradGymEnvironment('Seaquest-v0')"
   ]
  },
  {
   "cell_type": "code",
   "execution_count": 6,
   "metadata": {},
   "outputs": [],
   "source": [
    "ep, ob = env.new_episode()"
   ]
  },
  {
   "cell_type": "code",
   "execution_count": 10,
   "metadata": {
    "scrolled": true
   },
   "outputs": [
    {
     "data": {
      "application/vnd.jupyter.widget-view+json": {
       "model_id": "d754427e83ee41c994655221c85cfcfb",
       "version_major": 2,
       "version_minor": 0
      },
      "text/plain": [
       "HBox(children=(FloatProgress(value=0.0, max=1.0), HTML(value='')))"
      ]
     },
     "metadata": {},
     "output_type": "display_data"
    },
    {
     "name": "stdout",
     "output_type": "stream",
     "text": [
      "\n"
     ]
    }
   ],
   "source": [
    "env = DiscreteRewradGymEnvironment('Seaquest-v0', simplified_reward=False)\n",
    "erlyx.run_episodes(env, agent, 1, [GymRenderer(env, 50)])"
   ]
  },
  {
   "cell_type": "code",
   "execution_count": 16,
   "metadata": {},
   "outputs": [],
   "source": [
    "import matplotlib.pyplot as plt"
   ]
  },
  {
   "cell_type": "code",
   "execution_count": 17,
   "metadata": {},
   "outputs": [],
   "source": [
    "import pandas as pd"
   ]
  },
  {
   "cell_type": "code",
   "execution_count": 18,
   "metadata": {
    "scrolled": true
   },
   "outputs": [
    {
     "data": {
      "text/plain": [
       "<matplotlib.axes._subplots.AxesSubplot at 0x7f21869db160>"
      ]
     },
     "execution_count": 18,
     "metadata": {},
     "output_type": "execute_result"
    },
    {
     "data": {
      "image/png": "[encoded data removed]",
      "text/plain": [
       "<Figure size 432x288 with 1 Axes>"
      ]
     },
     "metadata": {
      "needs_background": "light"
     },
     "output_type": "display_data"
    }
   ],
   "source": [
    "train_callbacks[-3].plot_rewards()\n",
    "pd.Series(train_callbacks[-3].rewards).ewm(alpha=0.01).mean().plot()"
   ]
  },
  {
   "cell_type": "code",
   "execution_count": 19,
   "metadata": {},
   "outputs": [
    {
     "data": {
      "image/png": "[encoded data removed]",
      "text/plain": [
       "<Figure size 432x288 with 1 Axes>"
      ]
     },
     "metadata": {
      "needs_background": "light"
     },
     "output_type": "display_data"
    }
   ],
   "source": [
    "train_callbacks[-2].plot(0)"
   ]
  },
  {
   "cell_type": "code",
   "execution_count": 31,
   "metadata": {},
   "outputs": [
    {
     "data": {
      "text/plain": [
       "100000"
      ]
     },
     "execution_count": 31,
     "metadata": {},
     "output_type": "execute_result"
    }
   ],
   "source": [
    "len(dataset._memory)"
   ]
  },
  {
   "cell_type": "code",
   "execution_count": 39,
   "metadata": {},
   "outputs": [
    {
     "data": {
      "text/plain": [
       "[Logger,\n",
       " TransitionRecorder,\n",
       " OnlineUpdater,\n",
       " LinearEpsilonDecay,\n",
       " RewardRecorder,\n",
       " AgentEvaluator,\n",
       " QValueTracker]"
      ]
     },
     "execution_count": 39,
     "metadata": {},
     "output_type": "execute_result"
    }
   ],
   "source": [
    "train_callbacks"
   ]
  },
  {
   "cell_type": "code",
   "execution_count": 69,
   "metadata": {
    "scrolled": true
   },
   "outputs": [
    {
     "data": {
      "text/plain": [
       "[-0.036834992468357086,\n",
       " 0.019324684515595436,\n",
       " -0.04291766136884689,\n",
       " 0.0739765614271164,\n",
       " -0.004521162714809179,\n",
       " -0.033491529524326324,\n",
       " -0.06971462070941925,\n",
       " -0.00527682900428772,\n",
       " 0.03426133468747139,\n",
       " -0.01532486081123352,\n",
       " 0.09612374752759933,\n",
       " 0.031843289732933044,\n",
       " -0.03323833644390106,\n",
       " 0.10109052062034607,\n",
       " -0.007529418915510178,\n",
       " -0.034887779504060745,\n",
       " 0.07131735980510712,\n",
       " 0.029284292832016945]"
      ]
     },
     "execution_count": 69,
     "metadata": {},
     "output_type": "execute_result"
    }
   ],
   "source": [
    "train_callbacks[-1].record[0].tolist()[0]"
   ]
  },
  {
   "cell_type": "code",
   "execution_count": null,
   "metadata": {},
   "outputs": [],
   "source": [
    "sasa = list(map(lambda x: x.tolist()[0], train_callbacks[-1].record))"
   ]
  },
  {
   "cell_type": "code",
   "execution_count": 71,
   "metadata": {},
   "outputs": [
    {
     "data": {
      "text/plain": [
       "[[-0.036834992468357086,\n",
       "  0.019324684515595436,\n",
       "  -0.04291766136884689,\n",
       "  0.0739765614271164,\n",
       "  -0.004521162714809179,\n",
       "  -0.033491529524326324,\n",
       "  -0.06971462070941925,\n",
       "  -0.00527682900428772,\n",
       "  0.03426133468747139,\n",
       "  -0.01532486081123352,\n",
       "  0.09612374752759933,\n",
       "  0.031843289732933044,\n",
       "  -0.03323833644390106,\n",
       "  0.10109052062034607,\n",
       "  -0.007529418915510178,\n",
       "  -0.034887779504060745,\n",
       "  0.07131735980510712,\n",
       "  0.029284292832016945]]"
      ]
     },
     "execution_count": 71,
     "metadata": {},
     "output_type": "execute_result"
    }
   ],
   "source": [
    "sasa["
   ]
  },
  {
   "cell_type": "code",
   "execution_count": 66,
   "metadata": {},
   "outputs": [
    {
     "data": {
      "text/plain": [
       "<matplotlib.axes._subplots.AxesSubplot at 0x7fbfe420c160>"
      ]
     },
     "execution_count": 66,
     "metadata": {},
     "output_type": "execute_result"
    },
    {
     "data": {
      "image/png": "[encoded data removed]",
      "text/plain": [
       "<Figure size 432x288 with 1 Axes>"
      ]
     },
     "metadata": {
      "needs_background": "light"
     },
     "output_type": "display_data"
    }
   ],
   "source": [
    "pd.Series(sasa).plot()"
   ]
  },
  {
   "cell_type": "code",
   "execution_count": null,
   "metadata": {},
   "outputs": [],
   "source": []
  }
 ],
 "metadata": {
  "kernelspec": {
   "display_name": "Python 3",
   "language": "python",
   "name": "python3"
  },
  "language_info": {
   "codemirror_mode": {
    "name": "ipython",
    "version": 3
   },
   "file_extension": ".py",
   "mimetype": "text/x-python",
   "name": "python",
   "nbconvert_exporter": "python",
   "pygments_lexer": "ipython3",
   "version": "3.6.10"
  }
 },
 "nbformat": 4,
 "nbformat_minor": 2
}
